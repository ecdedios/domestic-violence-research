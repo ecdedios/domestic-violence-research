{
 "cells": [
  {
   "cell_type": "markdown",
   "id": "698bb3fe-d471-4f60-a414-4845b57b30ab",
   "metadata": {},
   "source": [
    "# Table of Contents\n",
    "\n",
    "## 01 - Data Collection\n",
    "\n",
    "- pandas\n",
    "- selenium\n",
    "- beautifulsoup4\n",
    "\n",
    "## 02 - Datga Wrangling"
   ]
  },
  {
   "cell_type": "code",
   "execution_count": null,
   "id": "345c0c57-8004-4529-b1fe-5e428eab6399",
   "metadata": {},
   "outputs": [],
   "source": []
  }
 ],
 "metadata": {
  "kernelspec": {
   "display_name": "Python 3 (ipykernel)",
   "language": "python",
   "name": "python3"
  },
  "language_info": {
   "codemirror_mode": {
    "name": "ipython",
    "version": 3
   },
   "file_extension": ".py",
   "mimetype": "text/x-python",
   "name": "python",
   "nbconvert_exporter": "python",
   "pygments_lexer": "ipython3",
   "version": "3.12.4"
  }
 },
 "nbformat": 4,
 "nbformat_minor": 5
}
