{
 "cells": [
  {
   "cell_type": "markdown",
   "id": "f0acefd3-780d-4c4f-8eb8-c5b0130304b3",
   "metadata": {},
   "source": [
    "# Environment\n",
    "\n",
    ">pip install notebook pandas selenium beautifulsoup4"
   ]
  },
  {
   "cell_type": "code",
   "execution_count": 1,
   "id": "07cd5c93-8b1c-4551-9db8-05bb6e961579",
   "metadata": {},
   "outputs": [],
   "source": [
    "import pandas                                     # for manipulating dataframes\n",
    "from datetime import datetime                     # for manipulating dates\n",
    "\n",
    "# for web-scraping\n",
    "from selenium import webdriver\n",
    "from selenium.webdriver.common.by import By\n",
    "from bs4 import BeautifulSoup\n",
    "import requests"
   ]
  },
  {
   "cell_type": "code",
   "execution_count": 2,
   "id": "1e369a9d-52ea-4788-8988-0b081ae6f95e",
   "metadata": {},
   "outputs": [],
   "source": [
    "NUM_PAGES = 13\n",
    "assert NUM_PAGES > 1, \"NUM_PAGES should be more than 1.\"\n",
    "\n",
    "from selenium import webdriver\n",
    "from selenium.webdriver.common.by import By\n",
    "\n",
    "links = []\n",
    "\n",
    "# opens Chrome window\n",
    "driver = webdriver.Chrome()\n",
    "\n",
    "# get the links on the first page\n",
    "driver.get(\"https://pubmed.ncbi.nlm.nih.gov/?term=%28%28%22machine+learning%22%5BMesh%5D+OR+%22supervised+machine+learning%22%5BMesh%5D+OR+%22deep+learning%22%5BMesh%5D+OR+%22unsupervised+machine+learning%22%5BMesh%5D+OR+artificial+intelligence%5Btiab%5D+OR+Twitter%5Btiab%5D+OR+social+media%5Btiab%5D%29+AND+%28%22intimate+partner+violence%22%5BMesh%5D+OR+%22gender-based+violence%22%5BMesh%5D+OR+%22domestic+violence%22%5BMesh%5D+OR+intimate+partner+violence%5Btiab%5D+OR+domestic+violence%5Btiab%5D+OR+child+abuse%5Btiab%5D+OR+spouse+abuse%5Btiab%5D%29%29&filter=simsearch2.ffrft&filter=datesearch.y_10\")\n",
    "post_links = driver.find_elements(By.CSS_SELECTOR, 'article a')\n",
    "for link in post_links:\n",
    "    links.append(link.get_attribute(\"href\"))\n",
    "\n",
    "# get the links on subsequent pages\n",
    "for page_num in range(2, NUM_PAGES + 1):\n",
    "    driver.get(\"https://pubmed.ncbi.nlm.nih.gov/?term=((%22machine%20learning%22%5BMesh%5D%20OR%20%22supervised%20machine%20learning%22%5BMesh%5D%20OR%20%22deep%20learning%22%5BMesh%5D%20OR%20%22unsupervised%20machine%20learning%22%5BMesh%5D%20OR%20artificial%20intelligence%5Btiab%5D%20OR%20Twitter%5Btiab%5D%20OR%20social%20media%5Btiab%5D)%20AND%20(%22intimate%20partner%20violence%22%5BMesh%5D%20OR%20%22gender-based%20violence%22%5BMesh%5D%20OR%20%22domestic%20violence%22%5BMesh%5D%20OR%20intimate%20partner%20violence%5Btiab%5D%20OR%20domestic%20violence%5Btiab%5D%20OR%20child%20abuse%5Btiab%5D%20OR%20spouse%20abuse%5Btiab%5D))&filter=simsearch2.ffrft&filter=datesearch.y_10&page=\" + str(page_num))\n",
    "    post_links = driver.find_elements(By.CSS_SELECTOR, 'article div div a')\n",
    "    for link in post_links:\n",
    "        links.append(link.get_attribute(\"href\"))\n",
    "\n",
    "# closes Chrome window\n",
    "driver.quit()"
   ]
  },
  {
   "cell_type": "code",
   "execution_count": 3,
   "id": "f7fe8930-bc79-46eb-92ac-ae5c2e84ea0c",
   "metadata": {},
   "outputs": [],
   "source": [
    "def save_list_to_file(lst, filename):\n",
    "    \"\"\"\n",
    "    Takes a list of links and turns each one to a file.\n",
    "    \"\"\"\n",
    "    with open(filename, 'w', encoding='utf-8') as f:\n",
    "        for item in lst:\n",
    "            f.write(str(item) + '\\n')"
   ]
  },
  {
   "cell_type": "code",
   "execution_count": 4,
   "id": "fa33f235-abe0-4661-b6c5-3571958d499b",
   "metadata": {},
   "outputs": [],
   "source": [
    "def current_time_to_serial():\n",
    "    \"\"\"\n",
    "    Returns the current timestamp in serial format.\n",
    "    \"\"\"\n",
    "    current_time = datetime.now()\n",
    "    return current_time.timestamp()"
   ]
  },
  {
   "cell_type": "code",
   "execution_count": 5,
   "id": "f240f920-c904-418a-b0e0-6c9c2fbd593a",
   "metadata": {
    "scrolled": true
   },
   "outputs": [],
   "source": [
    "for post_link in links:\n",
    "    soup = BeautifulSoup(requests.get(post_link).content, 'html.parser')\n",
    "   \n",
    "    # find the first element of the specified class\n",
    "    content = soup.find('div', class_='abstract')\n",
    "\n",
    "    texts = []\n",
    "    \n",
    "    # extracts all the texts from the paragraphs found within the class\n",
    "    paragraphs = content.find_all('p')\n",
    "    paragraph_texts = [p.get_text().replace('\\n', '') for p in paragraphs]\n",
    "    texts.append(paragraph_texts)\n",
    "    \n",
    "    # saves each abstract as a file\n",
    "    save_list_to_file(texts, \"../data/abstract/domestic-violence-abstract-\" + str(current_time_to_serial()) + \".txt\")"
   ]
  }
 ],
 "metadata": {
  "kernelspec": {
   "display_name": "Python 3 (ipykernel)",
   "language": "python",
   "name": "python3"
  },
  "language_info": {
   "codemirror_mode": {
    "name": "ipython",
    "version": 3
   },
   "file_extension": ".py",
   "mimetype": "text/x-python",
   "name": "python",
   "nbconvert_exporter": "python",
   "pygments_lexer": "ipython3",
   "version": "3.12.4"
  }
 },
 "nbformat": 4,
 "nbformat_minor": 5
}
